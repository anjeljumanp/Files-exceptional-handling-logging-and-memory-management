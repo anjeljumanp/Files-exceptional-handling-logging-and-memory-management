{
  "nbformat": 4,
  "nbformat_minor": 0,
  "metadata": {
    "colab": {
      "provenance": []
    },
    "kernelspec": {
      "name": "python3",
      "display_name": "Python 3"
    },
    "language_info": {
      "name": "python"
    }
  },
  "cells": [
    {
      "cell_type": "markdown",
      "source": [
        "# Files, exceptional handling, logging and    memory management Questions"
      ],
      "metadata": {
        "id": "09vG3FSM40px"
      }
    },
    {
      "cell_type": "markdown",
      "source": [
        "1. What is the difference between interpreted and compiled languages?\n",
        "  - **Compiled languages**\n",
        "      - A compiled language is a programming language that is generally compiled and not interpreted. It is one where the program, once compiled, is expressed in the instructions of the target machine; this machine code is undecipherable by humans. Types of compiled language - C, C++, C#, CLEO, COBOL, etc.\n",
        "\n",
        "  - **Interpreted language**\n",
        "     - An interpreted language is a programming language that is generally interpreted, without compiling a program into machine instructions. It is one where the instructions are not directly executed by the target machine, but instead, read and executed by some other program. Interpreted language ranges - JavaScript, Perl, Python, BASIC, etc."
      ],
      "metadata": {
        "id": "MmUBbTvL470w"
      }
    },
    {
      "cell_type": "markdown",
      "source": [
        "2. What is exception handling in Python?\n",
        "  - Exception handling in Python is a mechanism used to gracefully manage runtime errors, known as exceptions, that can disrupt the normal flow of a program. Instead of crashing, the program can \"catch\" these exceptions and execute specific code to handle them, ensuring more robust and user-friendly applications.\n"
      ],
      "metadata": {
        "id": "s4K-SPrY5rxy"
      }
    },
    {
      "cell_type": "markdown",
      "source": [
        "3. What is the purpose of the finally block in exception handling?\n",
        "  - The purpose of a finally block in exception handling is to ensure that a specific block of code always executes, regardless of whether an exception was thrown or caught in the try block. It is most commonly used for performing crucial cleanup tasks, such as closing files, network connections, or database connections, to prevent resource leaks.\n",
        "    - Guaranteed execution: The code inside the finally block runs even if an exception occurs, is handled by a catch block, or if a return, break, or continue statement is encountered.\n",
        "    - Resource cleanup: It provides a reliable place to put code that must run to free up resources, ensuring they are closed properly whether the program runs successfully or crashes.\n",
        "    - Independent of outcome: The finally block's execution is not dependent on the try or catch blocks' outcome, making it an essential part of robust error handling."
      ],
      "metadata": {
        "id": "xa_kXVdd77K5"
      }
    },
    {
      "cell_type": "markdown",
      "source": [
        "4. What is logging in Python?\n",
        "   - Logging in Python is the process of systematically recording events and messages that occur during the execution of a program. It involves using the built-in logging module to capture information about the application's flow, potential errors, warnings, and other relevant details.  \n",
        "     - To record errors or exceptions instead of just printing them.\n",
        "     - To track program flow and find where issues occur.\n",
        "     - To keep permanent records in a file (useful in large applications).\n",
        "     - To provide different levels of information (info, warning, error, etc.)."
      ],
      "metadata": {
        "id": "mc69GtHr_Rku"
      }
    },
    {
      "cell_type": "markdown",
      "source": [
        "5. What is the significance of the __del__ method in Python?\n",
        "  - The __del__ method in Python, also known as the destructor, holds significance primarily in resource management and cleanup operations when an object is about to be destroyed.\n",
        "  - significance:\n",
        "     - Resource Cleanup: The primary purpose of __del__ is to release external resources held by an object before it is garbage collected. This includes closing file handles, network connections, database connections, or releasing memory allocated outside of Python's garbage collector.\n",
        "     - Destructor Behavior: It defines actions to be performed when all references to an object are removed, and Python's garbage collector determines the object is no longer needed. Unlike __init__ (the constructor), which is called when an object is created, __del__ is called when an object is about to be destroyed.\n",
        "     - Automatic Invocation (with caveats): You do not explicitly call __del__. Python's garbage collector automatically invokes it when an object's reference count drops to zero, signifying it's no longer accessible and can be safely removed from memory."
      ],
      "metadata": {
        "id": "d3fMpwgKAUfY"
      }
    },
    {
      "cell_type": "markdown",
      "source": [
        "6. What is the difference between import and from ... import in Python?\n",
        "  - **import**\n",
        "    - It imports entire module.\n",
        "    - To access one of the functions, we have to specify the name of the module and the name of the function, separated by a dot. This format is called dot notation. The syntax is : <module-name>.<function-name>()\n",
        "    - Imports all its items in a new namespace with the same name as of the module.\n",
        "    - This approach does not cause any problems.\n",
        "  \n",
        "  - **from ... import**\n",
        "    - It imports single, multiple or all objects from a module.\n",
        "    - To access functions, there is no need to prefix module's name to imported item name. The syntax is : <function-name>\n",
        "    - Imports specified items from the module into the current namespace.\n",
        "    - This approach can lead to namespace pollution and name clashes if multiple modules import items with the same name."
      ],
      "metadata": {
        "id": "dWCTl7DKBIE4"
      }
    },
    {
      "cell_type": "markdown",
      "source": [
        "7. How can you handle multiple exceptions in Python?\n",
        "  - In Python, exceptions are used to handle errors that occur during program execution. Sometimes, a program may encounter more than one possible type of error, and it becomes necessary to handle multiple exceptions efficiently. Python provides several ways to do this using the try and except blocks.\n",
        "    1. Handling Multiple Exceptions Separately\n",
        "      - When different types of exceptions require different handling actions, multiple except blocks can be used. Each block catches a specific exception and executes the corresponding code.\n",
        "    2. Handling Multiple Exceptions in a Single Block\n",
        "      - If multiple exceptions can be handled in the same way, they can be grouped together in a single except block by using a tuple.\n",
        "    3. Handling All Exceptions (Generic Exception)\n",
        "      - To handle any type of exception that may occur, Python allows the use of the base Exception class. This is helpful when the exact type of error is unknown, or for debugging and logging purposes.\n",
        "    4. Using else and finally with Multiple Exceptions\n",
        "       - The else and finally blocks can also be used along with multiple except statements.\n",
        "       - The else block executes when no exception occurs.\n",
        "       - The finally block always executes, regardless of whether an exception occurred or not."
      ],
      "metadata": {
        "id": "PMqO3phOCHs_"
      }
    },
    {
      "cell_type": "markdown",
      "source": [
        "8. What is the purpose of the with statement when handling files in Python?\n",
        "  -The purpose of the with statement when handling files in Python is to ensure proper resource management, specifically that the file is automatically closed after its use, even if errors occur.\n",
        "    - Automatic Resource Cleanup: The with statement guarantees that the file's close() method is called automatically when the code block within the with statement is exited. This happens regardless of whether the block completes successfully or an exception is raised. This prevents resource leaks and potential file corruption that can occur if files are not explicitly closed.\n",
        "    - Simplified Error Handling: It eliminates the need for explicit try-finally blocks to ensure file closure. Traditionally, you would use a try-finally block to guarantee file.close() is called in the finally clause. The with statement provides a more concise and readable way to achieve the same result.\n",
        "    - Improved Code Readability and Maintainability: By abstracting away the explicit opening and closing of files, the with statement makes your code cleaner, more focused on the core logic of file operations, and easier to understand."
      ],
      "metadata": {
        "id": "__QHXfh1GEXE"
      }
    },
    {
      "cell_type": "markdown",
      "source": [
        "9. What is the difference between multithreading and multiprocessing?\n",
        "   - Multiprocessing is a system that has more than one or two processors. In Multiprocessing, CPUs are added to increase the computing speed of the system. Because of Multiprocessing, There are many processes are executed simultaneously. Explore more about similar topics. Multiprocessing is classified into two categories:\n",
        "       1. Symmetric Multiprocessing\n",
        "       2. Asymmetric Multiprocessing\n",
        "    \n",
        "   - Multithreading is a system in which multiple threads are created of a process for increasing the computing speed of the system. In multithreading, many threads of a process are executed simultaneously and process creation in multithreading is done according to economical.\n",
        "\n",
        "  \n"
      ],
      "metadata": {
        "id": "R6dz_VxgHoHO"
      }
    },
    {
      "cell_type": "markdown",
      "source": [
        "10. What are the advantages of using logging in a program?\n",
        "    - Logging is an essential feature in Python (and most programming languages) that helps developers track, monitor, and record important events during program execution. It is provided through Python’s built-in logging module.\n",
        "    - The major advantages of using logging in a program:\n",
        "      - Helps in Debugging: Logging allows programmers to record detailed information about a program’s flow and variable values. When an error occurs, the log messages help trace where and why it happened without having to rerun the program repeatedly.\n",
        "      - Keeps a Permanent Record of Events: Unlike print() statements that only show messages temporarily on the screen, logging can store messages in files.This permanent record is useful for analyzing program behavior over time and for diagnosing issues after deployment.\n",
        "      - Provides Different Levels of Information: The logging module supports multiple severity levels like:\n",
        "        - DEBUG – detailed information for developers\n",
        "        - INFO – confirmation that things are working correctly\n",
        "        - WARNING – indication of a potential issue\n",
        "        - ERROR – serious problems that need attention\n",
        "        - CRITICAL – severe errors that may cause the program to stop\n",
        "     - Improves Maintainability: Logs make it easier for developers to understand how the system behaves, even if they didn’t write the original code. It provides a clear history of operations, making maintenance and updates more efficient.\n",
        "     - Useful for Monitoring and Auditing: In production environments, logs can be used to monitor user actions, system performance, or resource usage. They serve as an audit trail to understand what happened before an error or unexpected behavior occurred.\n",
        "\n"
      ],
      "metadata": {
        "id": "LFDxxLTUJPao"
      }
    },
    {
      "cell_type": "markdown",
      "source": [
        "11. What is memory management in Python?\n",
        "   - Memory management refers to process of allocating and deallocating memory to a program while it runs. Python handles memory management automatically using mechanisms like reference counting and garbage collection, which means programmers do not have to manually manage memory."
      ],
      "metadata": {
        "id": "DGYGCg1YL58r"
      }
    },
    {
      "cell_type": "markdown",
      "source": [
        "12. What are the basic steps involved in exception handling in Python?\n",
        "\n",
        "    - The try Block – Detecting Exceptions\n",
        "      - The first step in exception handling is to place the code that may cause an error inside the try block. This block acts as a testing area where Python monitors the code for potential errors. If everything inside the try block runs successfully, the program continues normally. However, if an error occurs, Python immediately stops executing the rest of the try block and moves to the appropriate except block.\n",
        "\n",
        "   - The except Block – Handling Exceptions\n",
        "     - The except block defines how the program should respond when a specific type of exception occurs. It allows the programmer to handle errors in a controlled way, such as displaying a user-friendly message or performing corrective actions. Multiple except blocks can be used to handle different types of exceptions separately. This ensures that different errors are handled appropriately according to their nature.\n",
        "\n",
        "   - The else Block – Executing Code When No Exception Occurs\n",
        "     - The else block is optional and is executed only when no exceptions are raised in the try block. It is used to write code that should run only if everything in the try block executes successfully. This helps in separating the normal flow of the program from the error-handling part, making the code cleaner and more readable.\n",
        "\n",
        "  - The finally Block – Performing Cleanup Actions\n",
        "    - The finally block contains code that must be executed regardless of whether an exception occurs or not. It is commonly used for cleanup activities, such as closing files, releasing resources, or disconnecting from a database. The finally block ensures that necessary final operations are always performed before the program ends."
      ],
      "metadata": {
        "id": "ELKGUBz3Mh0z"
      }
    },
    {
      "cell_type": "markdown",
      "source": [
        "13. Why is memory management important in Python?\n",
        "   - Memory management is crucial in Python, despite its automatic nature, for several reasons:\n",
        "      - Performance Optimization: Inefficient memory usage can lead to slower program execution and increased resource consumption. Understanding how Python manages memory allows developers to write code that minimizes memory footprint, leading to faster and more responsive applications. This is especially critical for applications dealing with large datasets or requiring high performance, like in data science or AI.\n",
        "      - Preventing Memory Leaks: While Python's garbage collector automatically handles memory deallocation, scenarios like circular references can lead to memory leaks if not managed properly. Understanding the underlying mechanisms like reference counting and generational garbage collection helps in identifying and preventing such leaks, ensuring long-term stability and efficiency of the program.\n",
        "      - Efficient Resource Utilization: Memory is a finite resource. Effective memory management ensures that your Python programs don't consume excessive memory, leaving resources available for other applications or system processes. This is particularly important in environments with limited memory or when running multiple applications concurrently.\n",
        "      - Avoiding Crashes and Errors: Improper memory handling can lead to memory corruption, which can manifest as unpredictable program behavior, crashes, or security vulnerabilities. Understanding Python's memory model helps in writing robust code that avoids such issues.\n",
        "      - Optimizing for Specific Use Cases: Knowing how different data structures and operations impact memory usage allows developers to make informed choices. For instance, using tuples instead of lists when immutability is desired can save memory, and generators can efficiently handle large data streams without loading the entire dataset into memory."
      ],
      "metadata": {
        "id": "H790xEJwWUxK"
      }
    },
    {
      "cell_type": "markdown",
      "source": [
        "14. What is the role of try and except in exception handling?\n",
        "    - The try and except blocks are fundamental components of exception handling in many programming languages, including Python. Their roles are distinct but complementary in managing runtime errors and preventing program crashes.\n",
        "    - **The try Block:**\n",
        "      - The try block encloses the code segment that is potentially prone to raising exceptions. This means any operation within the try block that might lead to an error (e.g., division by zero, accessing a non-existent file, type conversion issues) is placed here.\n",
        "      - The purpose is to \"try\" executing this code. If no exception occurs, the code within the try block completes successfully, and the corresponding except block is skipped.\n",
        "    - **The except Block:**\n",
        "      - The except block immediately follows the try block and specifies how to handle specific types of exceptions that might occur within the try block.\n",
        "      - If an exception is raised in the try block, the program flow immediately transfers to the corresponding except block that matches the type of exception raised.\n",
        "      - Within the except block, you can define actions to mitigate the error, such as printing an informative error message, logging the error, attempting a recovery action, or gracefully exiting the program.\n",
        "      - Multiple except blocks can be used to handle different types of exceptions specifically. For example, you can have one except block for ZeroDivisionError and another for ValueError.\n",
        "      - A generic except block without a specified exception type will catch any exception that occurs if no specific except block matches."
      ],
      "metadata": {
        "id": "41kZChPiepGx"
      }
    },
    {
      "cell_type": "markdown",
      "source": [
        "15. How does Python's garbage collection system work?\n",
        "   - Garbage Collection in Python is an automatic process that handles memory allocation and deallocation, ensuring efficient use of memory. Unlike languages such as C or C++ where the programmer must manually allocate and deallocate memory.\n",
        "   - Garbage collection is a memory management technique used in programming languages to automatically reclaim memory that is no longer accessible or in use by the application. To handle such circular references, Python uses a Garbage Collector (GC) from the built-in gc module. This collector is able to detect and clean up objects involved in reference cycles.\n",
        "   "
      ],
      "metadata": {
        "id": "74lQ4dLIfakE"
      }
    },
    {
      "cell_type": "markdown",
      "source": [
        "16. What is the purpose of the else block in exception handling?\n",
        "   - The else block in exception handling, specifically in constructs like try...except...else in Python, serves the purpose of executing a block of code only when no exceptions are raised within the corresponding try block\n",
        "   - else block: Contains code that should execute only if the try block completes successfully, without any exceptions being caught by the except blocks.\n",
        "   - Benefits\n",
        "     - Readability and Clarity: It clearly distinguishes between code that is part of the \"normal\" successful execution flow and code that handles exceptional situations.\n",
        "     - Prevents Accidental Exception Handling: By placing code that depends on the successful completion of the try block in the else block, you avoid accidentally catching exceptions that might be raised by that subsequent code, which could lead to unintended behavior or mask bugs.\n",
        "     - Encourages Better Design: It promotes a design where the try block is kept concise, focusing only on the operations that might fail, while the else block handles the successful aftermath."
      ],
      "metadata": {
        "id": "BnyUuMlOgNJY"
      }
    },
    {
      "cell_type": "markdown",
      "source": [
        "17. What are the common logging levels in Python?\n",
        "  - Python's logging provides several standard logging levels to categorize messages based on their severity. These levels are used to control the verbosity of logging output and filter messages based on their importance.\n",
        "  - The common logging levels in Python are:\n",
        "    - DEBUG: Provides detailed information, typically of interest only when diagnosing problems. This level is useful for developers during the development and debugging phases.\n",
        "    - INFO: Confirms that things are working as expected. These messages are for general information about the program's execution and progress.\n",
        "    - WARNING: Indicates that something unexpected happened, or indicative of some problem in the near future (e.g., 'disk space low'). The software is still working as expected, but attention might be needed.\n",
        "    - ERROR: Due to a more serious problem, the software has not been able to perform some function. This signifies a problem that prevents a part of the application from functioning correctly.\n",
        "    - CRITICAL: A serious error, indicating that the program itself may be unable to continue running. This is the highest level of severity, often used for unrecoverable errors."
      ],
      "metadata": {
        "id": "d17TBTQngnLl"
      }
    },
    {
      "cell_type": "markdown",
      "source": [
        "18. What is the difference between os.fork() and multiprocessing in Python?\n",
        "   - The core difference between os.fork() and Python's multiprocessing module lies in their level of abstraction and portability.\n",
        "   - **os.fork():**\n",
        "     - Low-level System Call: os.fork() is a direct wrapper around the Unix fork() system call. It creates a new child process that is an almost exact duplicate of the parent process, including its memory space, open file descriptors, and execution state.\n",
        "     - Unix-specific: os.fork() is only available on Unix-like systems (Linux, macOS, BSD, etc.). It does not work on Windows.\n",
        "     - Manual Management: When using os.fork(), you are responsible for managing the child process's execution flow, inter-process communication (IPC), and resource cleanup.\n",
        "     - Potential for Issues: Forking a multi-threaded process can lead to issues due to the child process inheriting the parent's threads in an undefined state.\n",
        "  - **multiprocessing module:**\n",
        "     - High-level Abstraction: The multiprocessing module provides a higher-level, more portable way to create and manage processes in Python. It offers a Process class, Pool class, and various IPC mechanisms (queues, pipes, locks, etc.).\n",
        "     - Cross-platform: The multiprocessing module works on both Unix-like systems and Windows, providing a consistent API across platforms. On Unix, it often uses fork internally by default (though spawn and forkserver are also options), while on Windows, it uses a different mechanism (e.g., spawn) to create new processes.\n",
        "     - Simplified Management: The multiprocessing module handles much of the complexity of process creation, management, and IPC, allowing you to focus on the logic of your concurrent tasks.\n",
        "     - Safer for Multi-threaded Applications: The multiprocessing module's spawn and forkserver start methods are designed to be safer when working with multi-threaded applications, as they create new, clean processes rather than simply duplicating the parent's state."
      ],
      "metadata": {
        "id": "s1Dx5PaShS_y"
      }
    },
    {
      "cell_type": "markdown",
      "source": [
        "19. What is the importance of closing a file in Python?\n",
        "  - Closing a file in Python, using the file.close() method or by employing a with statement, is crucial for several reasons:\n",
        "    - Ensuring Data Integrity: When writing to a file, data is often buffered in memory before being written to the physical file on disk. Closing the file ensures that any remaining buffered data is \"flushed\" and written completely to the file, preventing data loss or corruption.\n",
        "    - Releasing System Resources: Opening a file consumes system resources, such as file handles and memory allocated by the operating system. Failing to close files can lead to resource leaks, potentially exhausting the available file handles or memory, which can negatively impact system performance and cause other programs to malfunction.\n",
        "    - Preventing Data Corruption and Conflicts: Leaving files open unnecessarily can lead to issues if other processes or programs attempt to access or modify the same file. Closing the file releases the lock on the file, allowing other applications to interact with it without conflicts or potential data corruption.\n",
        "    - Good Programming Practice: Explicitly closing files demonstrates good programming practice and makes the code more robust and reliable. While Python does have automatic garbage collection that might eventually close files, relying on this implicit behavior can be less predictable and harder to debug in complex scenarios.\n",
        "    - Avoiding File Handle Limits: Operating systems often impose limits on the number of files a single process can have open simultaneously. Failing to close files can lead to exceeding this limit, resulting in IOError exceptions or unexpected program termination."
      ],
      "metadata": {
        "id": "DvU0tdomhzm0"
      }
    },
    {
      "cell_type": "markdown",
      "source": [
        "20. What is the difference between file.read() and file.readline() in Python?\n",
        "  - In Python, file.read() and file.readline() are both methods used to read content from a file object, but they differ in how much data they retrieve:\n",
        "  - **file.read():**\n",
        "    - Reads the entire content of the file and returns it as a single string.\n",
        "    - If an optional integer argument size is provided, it reads up to size characters (or bytes in binary mode) from the file.\n",
        "    - Use case: Suitable for smaller files where loading the entire content into memory is not an issue, or when we need to process the file as a whole.\n",
        "  - **file.readline():**\n",
        "    - Reads a single line from the file, including the newline character (\\n), and returns it as a string.\n",
        "    - Subsequent calls to readline() will read the next line in the file.\n",
        "    - If an optional integer argument size is provided, it reads up to size characters from the current line, or until the newline character, whichever comes first.\n",
        "    - Use case: Ideal for processing large files line by line to avoid loading the entire file into memory, or when we need to process data on a per-line basis."
      ],
      "metadata": {
        "id": "r4p8pv47iRF1"
      }
    },
    {
      "cell_type": "markdown",
      "source": [
        "21. What is the logging module in Python used for?\n",
        "  - The logging module in Python is a built-in, standard library module that provides a flexible and powerful framework for emitting log messages from Python programs. It is used to:\n",
        "    - Track events and program flow: Record information about the execution of your application, including warnings, errors, and general information about its state and operations.\n",
        "    - Debug and troubleshoot: Generate a \"breadcrumb trail\" of events that can help identify the root cause of issues, making debugging easier and more efficient than relying solely on print() statements.\n",
        "    - Monitor and analyze application behavior: Collect data about how your application is being used, its performance, and potential problems, which can be valuable for monitoring, analysis, and future development.\n",
        "    - Manage log output: Configure where and how log messages are sent, such as to the console, a file, a network socket, or even email, with different levels of severity (e.g., DEBUG, INFO, WARNING, ERROR, CRITICAL).\n",
        "    - Structure and format log messages: Control the content and presentation of log messages, including timestamps, log levels, and other relevant information, making them easier to read and parse.\n",
        "\n"
      ],
      "metadata": {
        "id": "wZDm8liDi2wV"
      }
    },
    {
      "cell_type": "markdown",
      "source": [
        "22. What is the os module in Python used for in file handling?\n",
        "  - OS module in Python provides functions for interacting with the operating system. OS comes under Python's standard utility modules. This module provides a portable way of using operating system-dependent functionality.\n",
        "  - OS-Module Functions are:\n",
        "    - Handling the Current Working Directory\n",
        "    - Creating a Directory\n",
        "    - Listing out Files and Directories with Python\n",
        "    - Deleting Directory or Files using Python\n",
        "    - File Permissions and Metadata\n",
        "\n",
        "\n",
        "\n"
      ],
      "metadata": {
        "id": "igAnXMMwjWdn"
      }
    },
    {
      "cell_type": "markdown",
      "source": [
        "23. What are the challenges associated with memory management in Python?\n",
        "  - Memory Leaks: While Python's garbage collector generally prevents leaks, certain scenarios can still lead to them. Cyclic references, where objects refer to each other in a way that prevents their reference count from dropping to zero, can hinder garbage collection. Additionally, improper handling of global variables or long-lived objects can lead to memory retention even when the data is no longer actively used.\n",
        "  - Performance Overhead: The automatic nature of Python's memory management, particularly the garbage collection process, introduces a performance overhead. The interpreter needs to periodically identify and deallocate unused objects, which consumes CPU cycles and can lead to pauses in execution, especially in applications with high memory churn.\n",
        "  - Unpredictability of Garbage Collection: The exact timing of garbage collection is not always predictable, making it difficult to optimize for memory usage in performance-critical applications. This can lead to unexpected performance variations, especially in long-running processes.\n",
        "  - Memory Fragmentation: As objects are allocated and deallocated, the private heap managed by Python can become fragmented. This means that free memory is scattered in small, non-contiguous blocks, potentially making it harder to allocate large, contiguous memory chunks when needed, even if sufficient total memory is available.\n",
        "  - Lack of Fine-Grained Control: Unlike languages like C or C++, Python offers limited manual control over memory allocation and deallocation. Developers cannot explicitly free memory or manage memory pools, making it challenging to implement highly optimized memory strategies for specific use cases.\n",
        "  - Global Interpreter Lock (GIL): While not directly a memory management challenge, the GIL in CPython can indirectly impact memory-intensive multi-threaded applications. The GIL ensures only one thread can execute Python bytecode at a time, limiting true parallelism and potentially leading to memory inefficiencies in scenarios where threads contend for shared resources.\n",
        "  - Large Object Creation: Creating and manipulating very large objects or data structures can consume significant memory and potentially trigger frequent garbage collection cycles, impacting performance and responsiveness."
      ],
      "metadata": {
        "id": "H2PrfAzmjyHi"
      }
    },
    {
      "cell_type": "markdown",
      "source": [
        "24. How do you raise an exception manually in Python?\n",
        "   - In Python, exceptions can be raised manually using the raise statement. This allows the programmer to deliberately trigger an error when certain conditions occur, ensuring that the program handles unexpected or invalid situations properly.\n",
        "   - For example, if a program requires only positive numbers as input, the following statement can be used:\n",
        "     - x = -5\n",
        "if x < 0:\n",
        "    raise ValueError(\"Negative value not allowed!\")\n",
        "    - In this example, if the value of x is less than zero, a ValueError is raised with a custom message. This stops the normal flow of the program and alerts the user or developer about the invalid input."
      ],
      "metadata": {
        "id": "C1lxTKbBkRtJ"
      }
    },
    {
      "cell_type": "markdown",
      "source": [
        "25. Why is it important to use multithreading in certain applications?\n",
        "   - Multithreading is used to improve performance, responsiveness, and scalability by allowing applications to perform multiple tasks concurrently. It is especially useful for keeping user interfaces responsive during background operations and for servers handling multiple requests simultaneously.\n",
        "   - Key reasons to use multithreading:\n",
        "     - Improved performance: Enables simultaneous execution of tasks, speeding up processing and efficiently using multi-core processors—ideal for I/O-bound tasks like web servers.\n",
        "     - Enhanced responsiveness: Keeps the main thread free by running heavy tasks in the background, ensuring smooth user interaction.\n",
        "     - Increased scalability: Allows applications to handle more users or tasks efficiently, as threads are lighter than processes.\n",
        "     - Efficient resource utilization: Maximizes CPU usage by running multiple threads across cores with minimal idle time.\n",
        "     - Resource sharing: Threads share the same memory space, enabling faster communication and reduced overhead compared to processes."
      ],
      "metadata": {
        "id": "YlEltcxxlT6R"
      }
    },
    {
      "cell_type": "markdown",
      "source": [
        "# Practical Questions"
      ],
      "metadata": {
        "id": "-QUDluSylwru"
      }
    },
    {
      "cell_type": "markdown",
      "source": [
        "1. How can you open a file for writing in Python and write a string to it?"
      ],
      "metadata": {
        "id": "n1O3PI-Hl311"
      }
    },
    {
      "cell_type": "code",
      "source": [
        "with open(\"message.txt\", \"w\") as file:\n",
        "    file.write(\"Hello! This is a file created using Python.\")\n",
        "\n",
        "with open(\"message.txt\", \"r\") as file:\n",
        "    content = file.read()\n",
        "    print(\"File content:\\n\")\n",
        "    print(content)\n"
      ],
      "metadata": {
        "colab": {
          "base_uri": "https://localhost:8080/"
        },
        "id": "7NpTxmO5nB4k",
        "outputId": "93f371b8-8d5c-4119-8a97-017ef55d8009"
      },
      "execution_count": null,
      "outputs": [
        {
          "output_type": "stream",
          "name": "stdout",
          "text": [
            "File content:\n",
            "\n",
            "Hello! This is a file created using Python.\n"
          ]
        }
      ]
    },
    {
      "cell_type": "markdown",
      "source": [
        "2. Write a Python program to read the contents of a file and print each line."
      ],
      "metadata": {
        "id": "jv4u8kwEnVmR"
      }
    },
    {
      "cell_type": "code",
      "source": [
        "with open(\"example.txt\", \"w\") as file:\n",
        "    file.write(\"Python makes file handling easy.\\n\")\n",
        "    file.write(\"This is the first line of the file.\\n\")\n",
        "    file.write(\"This is the second line of the file.\")\n",
        "\n",
        "with open(\"example.txt\", \"r\") as file:\n",
        "    content = file.read()\n",
        "    print(\"File content:\\n\")\n",
        "    print(content)\n"
      ],
      "metadata": {
        "colab": {
          "base_uri": "https://localhost:8080/"
        },
        "id": "zTZIZgBQnmyu",
        "outputId": "7ce18d6b-d698-4181-8dfd-a8798b23a566"
      },
      "execution_count": null,
      "outputs": [
        {
          "output_type": "stream",
          "name": "stdout",
          "text": [
            "File content:\n",
            "\n",
            "Python makes file handling easy.\n",
            "This is the first line of the file.\n",
            "This is the second line of the file.\n"
          ]
        }
      ]
    },
    {
      "cell_type": "markdown",
      "source": [
        "3. How would you handle a case where the file doesn't exist while trying to open it for reading?"
      ],
      "metadata": {
        "id": "IoJ09v87oih4"
      }
    },
    {
      "cell_type": "code",
      "source": [
        "try:\n",
        "    with open(\"data.txt\", \"r\") as file:\n",
        "        content = file.read()\n",
        "        print(\"File content:\\n\")\n",
        "        print(content)\n",
        "\n",
        "except FileNotFoundError:\n",
        "    print(\"Error: The file 'data.txt' was not found.\")\n"
      ],
      "metadata": {
        "colab": {
          "base_uri": "https://localhost:8080/"
        },
        "id": "5hkJipnQox3_",
        "outputId": "c1e349a9-add6-4a71-8bb6-fcf2a61cbe86"
      },
      "execution_count": null,
      "outputs": [
        {
          "output_type": "stream",
          "name": "stdout",
          "text": [
            "Error: The file 'data.txt' was not found.\n"
          ]
        }
      ]
    },
    {
      "cell_type": "markdown",
      "source": [
        "4. Write a Python script that reads from one file and writes its content to another file."
      ],
      "metadata": {
        "id": "T922WrYyo7Fi"
      }
    },
    {
      "cell_type": "code",
      "source": [
        "# Creating a source file with some text\n",
        "with open(\"source.txt\", \"w\") as source_file:\n",
        "    source_file.write(\"Python makes file handling simple.\\n\")\n",
        "    source_file.write(\"This text will be copied to another file.\")\n",
        "\n",
        "# Reading content from the source file\n",
        "with open(\"source.txt\", \"r\") as source_file:\n",
        "    content = source_file.read()\n",
        "\n",
        "# Writing the content into a new destination file\n",
        "with open(\"destination.txt\", \"w\") as destination_file:\n",
        "    destination_file.write(content)\n",
        "\n",
        "# Displaying confirmation message\n",
        "print(\"File copied successfully! The contents of 'destination.txt' are:\\n\")\n",
        "\n",
        "# Read and print the new file's content to verify\n",
        "with open(\"destination.txt\", \"r\") as destination_file:\n",
        "    print(destination_file.read())\n"
      ],
      "metadata": {
        "colab": {
          "base_uri": "https://localhost:8080/"
        },
        "id": "ww5DuGD9pF3e",
        "outputId": "7a4b34a1-826f-41d7-c697-07a9472cf677"
      },
      "execution_count": null,
      "outputs": [
        {
          "output_type": "stream",
          "name": "stdout",
          "text": [
            "File copied successfully! The contents of 'destination.txt' are:\n",
            "\n",
            "Python makes file handling simple.\n",
            "This text will be copied to another file.\n"
          ]
        }
      ]
    },
    {
      "cell_type": "markdown",
      "source": [
        "5. How would you catch and handle division by zero error in Python?"
      ],
      "metadata": {
        "id": "dl_h2eHApWpK"
      }
    },
    {
      "cell_type": "code",
      "source": [
        "try:\n",
        "    numerator = int(input(\"Enter numerator: \"))\n",
        "    denominator = int(input(\"Enter denominator: \"))\n",
        "\n",
        "    result = numerator / denominator\n",
        "    print(\"Result:\", result)\n",
        "\n",
        "except ZeroDivisionError:\n",
        "    print(\"Error: Division by zero is not allowed.\")\n",
        "\n",
        "except ValueError:\n",
        "    print(\"Error: Please enter valid numbers.\")\n"
      ],
      "metadata": {
        "colab": {
          "base_uri": "https://localhost:8080/"
        },
        "id": "ynwEQmRLpics",
        "outputId": "85b4b4b2-786f-4e8d-917a-d87bec11d41f"
      },
      "execution_count": null,
      "outputs": [
        {
          "output_type": "stream",
          "name": "stdout",
          "text": [
            "Enter numerator: 55\n",
            "Enter denominator: 22\n",
            "Result: 2.5\n"
          ]
        }
      ]
    },
    {
      "cell_type": "markdown",
      "source": [
        "6. Write a Python program that logs an error message to a log file when a division by zero exception occurs."
      ],
      "metadata": {
        "id": "BXM5avyDp6Dx"
      }
    },
    {
      "cell_type": "code",
      "source": [
        "import logging\n",
        "logging.basicConfig(\n",
        "    filename=\"error_log.txt\",\n",
        "    level=logging.ERROR,\n",
        "    format=\"%(asctime)s - %(levelname)s - %(message)s\"\n",
        ")\n",
        "try:\n",
        "    numerator = int(input(\"Enter numerator: \"))\n",
        "    denominator = int(input(\"Enter denominator: \"))\n",
        "    result = numerator / denominator\n",
        "    print(\"Result:\", result)\n",
        "\n",
        "except ZeroDivisionError:\n",
        "    print(\"Error: Division by zero is not allowed.\")\n",
        "    logging.error(\"Division by zero occurred while dividing %d by %d.\", numerator, denominator)\n",
        "\n",
        "except ValueError:\n",
        "    print(\"Error: Please enter valid numeric values.\")\n",
        "    logging.error(\"Invalid input provided. Non-numeric value entered.\")\n"
      ],
      "metadata": {
        "colab": {
          "base_uri": "https://localhost:8080/"
        },
        "id": "Yu4KWIlOyQWW",
        "outputId": "beb11a2a-6304-43ca-e03b-4f0d4abf7e2d"
      },
      "execution_count": null,
      "outputs": [
        {
          "output_type": "stream",
          "name": "stdout",
          "text": [
            "Enter numerator: 10\n",
            "Enter denominator: 20\n",
            "Result: 0.5\n"
          ]
        }
      ]
    },
    {
      "cell_type": "markdown",
      "source": [
        "7. How do you log information at different levels (INFO, ERROR, WARNING) in Python using the logging module?"
      ],
      "metadata": {
        "id": "DHhsCBk3ye9B"
      }
    },
    {
      "cell_type": "code",
      "source": [
        "import logging\n",
        "logging.basicConfig(\n",
        "    filename=\"app_log.txt\",\n",
        "    level=logging.DEBUG,\n",
        "    format=\"%(asctime)s - %(levelname)s - %(message)s\"\n",
        ")\n",
        "logging.debug(\"This is a DEBUG message — used for detailed diagnostic information.\")\n",
        "logging.info(\"This is an INFO message — used to confirm that things are working as expected.\")\n",
        "logging.warning(\"This is a WARNING message — indicates a potential issue that should be checked.\")\n",
        "logging.error(\"This is an ERROR message — a serious issue that prevented part of the program from running.\")\n",
        "logging.critical(\"This is a CRITICAL message — a severe error causing the program to stop.\")\n"
      ],
      "metadata": {
        "colab": {
          "base_uri": "https://localhost:8080/"
        },
        "id": "6eqfqqB0ykj3",
        "outputId": "a6c742d2-024e-48c4-d29b-ef00bd93961a"
      },
      "execution_count": null,
      "outputs": [
        {
          "output_type": "stream",
          "name": "stderr",
          "text": [
            "WARNING:root:This is a WARNING message — indicates a potential issue that should be checked.\n",
            "ERROR:root:This is an ERROR message — a serious issue that prevented part of the program from running.\n",
            "CRITICAL:root:This is a CRITICAL message — a severe error causing the program to stop.\n"
          ]
        }
      ]
    },
    {
      "cell_type": "markdown",
      "source": [
        "8. Write a program to handle a file opening error using exception handling."
      ],
      "metadata": {
        "id": "5s9w7BOZy1uO"
      }
    },
    {
      "cell_type": "code",
      "source": [
        "try:\n",
        "    with open(\"non_existing_file.txt\", \"r\") as file:\n",
        "        content = file.read()\n",
        "        print(\"File content:\\n\", content)\n",
        "\n",
        "except FileNotFoundError:\n",
        "    print(\"Error: The file you are trying to open does not exist.\")\n",
        "\n",
        "except PermissionError:\n",
        "    print(\"Error: You don’t have permission to access this file.\")\n",
        "\n",
        "except Exception as e:\n",
        "    print(\"An unexpected error occurred:\", e)\n"
      ],
      "metadata": {
        "colab": {
          "base_uri": "https://localhost:8080/"
        },
        "id": "ing5Cs1jzBE5",
        "outputId": "47495b5d-b6ac-491f-8bf9-d3e0a223647c"
      },
      "execution_count": null,
      "outputs": [
        {
          "output_type": "stream",
          "name": "stdout",
          "text": [
            "Error: The file you are trying to open does not exist.\n"
          ]
        }
      ]
    },
    {
      "cell_type": "markdown",
      "source": [
        "9. How can you read a file line by line and store its content in a list in Python?"
      ],
      "metadata": {
        "id": "1LYWShMLzJHu"
      }
    },
    {
      "cell_type": "code",
      "source": [
        "with open(\"example.txt\", \"w\") as file:\n",
        "    file.write(\"Python makes file handling easy.\\n\")\n",
        "    file.write(\"This is the first line of the file.\\n\")\n",
        "    file.write(\"This is the second line of the file.\")\n",
        "\n",
        "with open(\"example.txt\", \"r\") as file:\n",
        "    lines = [line.strip() for line in file]\n",
        "\n",
        "print(\"File content as a list:\")\n",
        "print(lines)\n"
      ],
      "metadata": {
        "colab": {
          "base_uri": "https://localhost:8080/"
        },
        "id": "EAkQDRVxzNN-",
        "outputId": "62f7b66c-fc6a-42f5-c85b-021e11d1e270"
      },
      "execution_count": null,
      "outputs": [
        {
          "output_type": "stream",
          "name": "stdout",
          "text": [
            "File content as a list:\n",
            "['Python makes file handling easy.', 'This is the first line of the file.', 'This is the second line of the file.']\n"
          ]
        }
      ]
    },
    {
      "cell_type": "markdown",
      "source": [
        "10. How can you append data to an existing file in Python?"
      ],
      "metadata": {
        "id": "WqOVIZqC0FwN"
      }
    },
    {
      "cell_type": "code",
      "source": [
        "with open(\"example.txt\", \"w\") as file:\n",
        "    file.write(\"Python is fun.\\n\")\n",
        "    file.write(\"File handling is simple.\\n\")\n",
        "\n",
        "with open(\"example.txt\", \"a\") as file:\n",
        "    file.write(\"Keep practicing!\\n\")\n",
        "    file.write(\"Appending new lines to the file.\\n\")\n",
        "\n",
        "with open(\"example.txt\", \"r\") as file:\n",
        "    content = file.read()\n",
        "\n",
        "print(\"Updated file content:\\n\")\n",
        "print(content)\n"
      ],
      "metadata": {
        "colab": {
          "base_uri": "https://localhost:8080/"
        },
        "id": "PPsr9gSw0UEg",
        "outputId": "45beea74-c0a2-4f5f-e26b-1e3868a5d322"
      },
      "execution_count": null,
      "outputs": [
        {
          "output_type": "stream",
          "name": "stdout",
          "text": [
            "Updated file content:\n",
            "\n",
            "Python is fun.\n",
            "File handling is simple.\n",
            "Keep practicing!\n",
            "Appending new lines to the file.\n",
            "\n"
          ]
        }
      ]
    },
    {
      "cell_type": "markdown",
      "source": [
        "11. Write a Python program that uses a try-except block to handle an error when attempting to access a dictionary key that doesn't exist."
      ],
      "metadata": {
        "id": "jM9u2C_D0ZXR"
      }
    },
    {
      "cell_type": "code",
      "source": [
        "student = {\"name\": \"John\", \"age\": 20, \"course\": \"Python\"}\n",
        "\n",
        "try:\n",
        "    print(\"Student Name:\", student[\"name\"])\n",
        "    print(\"Student Grade:\", student[\"grade\"])\n",
        "except KeyError:\n",
        "    print(\"Error: The specified key does not exist in the dictionary.\")\n"
      ],
      "metadata": {
        "colab": {
          "base_uri": "https://localhost:8080/"
        },
        "id": "XFx8p62l0lyc",
        "outputId": "972a2958-9026-46fe-f23c-f6c05d5744e9"
      },
      "execution_count": null,
      "outputs": [
        {
          "output_type": "stream",
          "name": "stdout",
          "text": [
            "Student Name: John\n",
            "Error: The specified key does not exist in the dictionary.\n"
          ]
        }
      ]
    },
    {
      "cell_type": "markdown",
      "source": [
        "12. Write a program that demonstrates using multiple except blocks to handle different types of exceptions."
      ],
      "metadata": {
        "id": "VgHkzjJK0sD-"
      }
    },
    {
      "cell_type": "code",
      "source": [
        "try:\n",
        "    num1 = int(input(\"Enter the first number: \"))\n",
        "    num2 = int(input(\"Enter the second number: \"))\n",
        "    result = num1 / num2\n",
        "\n",
        "    student = {\"name\": \"John\", \"age\": 20}\n",
        "    print(\"Student Grade:\", student[\"grade\"])\n",
        "\n",
        "except ZeroDivisionError:\n",
        "    print(\"Error: Division by zero is not allowed.\")\n",
        "\n",
        "except ValueError:\n",
        "    print(\"Error: Please enter only numeric values.\")\n",
        "\n",
        "except KeyError:\n",
        "    print(\"Error: The specified key does not exist in the dictionary.\")\n",
        "\n",
        "except Exception as e:\n",
        "    print(\"An unexpected error occurred:\", e)\n"
      ],
      "metadata": {
        "colab": {
          "base_uri": "https://localhost:8080/"
        },
        "id": "RtIT5Ap00wNK",
        "outputId": "f3813db3-fc18-415c-8bb1-89f7988631d2"
      },
      "execution_count": null,
      "outputs": [
        {
          "output_type": "stream",
          "name": "stdout",
          "text": [
            "Enter the first number: 2\n",
            "Enter the second number: 4\n",
            "Error: The specified key does not exist in the dictionary.\n"
          ]
        }
      ]
    },
    {
      "cell_type": "markdown",
      "source": [
        "13. How would you check if a file exists before attempting to read it in Python?"
      ],
      "metadata": {
        "id": "8o5FUMtI1C0h"
      }
    },
    {
      "cell_type": "code",
      "source": [
        "import os\n",
        "\n",
        "filename = \"example.txt\"\n",
        "if os.path.exists(filename):\n",
        "    with open(filename, \"r\") as file:\n",
        "        content = file.read()\n",
        "    print(\"File content:\\n\", content)\n",
        "else:\n",
        "    print(f\"Error: The file '{filename}' does not exist.\")\n"
      ],
      "metadata": {
        "colab": {
          "base_uri": "https://localhost:8080/"
        },
        "id": "hn39vubY1EUq",
        "outputId": "c4ea3fba-4022-4f6d-e511-c8ca00e0532a"
      },
      "execution_count": null,
      "outputs": [
        {
          "output_type": "stream",
          "name": "stdout",
          "text": [
            "File content:\n",
            " Python is fun.\n",
            "File handling is simple.\n",
            "Keep practicing!\n",
            "Appending new lines to the file.\n",
            "\n"
          ]
        }
      ]
    },
    {
      "cell_type": "markdown",
      "source": [
        "14. Write a program that uses the logging module to log both informational and error messages."
      ],
      "metadata": {
        "id": "ZWpYz8lO1Ejt"
      }
    },
    {
      "cell_type": "code",
      "source": [
        "import logging\n",
        "logging.basicConfig(\n",
        "    filename=\"app.log\",\n",
        "    level=logging.DEBUG,\n",
        "    format=\"%(asctime)s - %(levelname)s - %(message)s\"\n",
        ")\n",
        "\n",
        "logging.info(\"Program started successfully.\")\n",
        "\n",
        "try:\n",
        "    num1 = 10\n",
        "    num2 = 0\n",
        "    result = num1 / num2\n",
        "    logging.info(f\"Division result: {result}\")\n",
        "\n",
        "except ZeroDivisionError:\n",
        "    logging.error(\"Error: Division by zero is not allowed.\")\n",
        "\n",
        "logging.info(\"Program ended.\")\n"
      ],
      "metadata": {
        "colab": {
          "base_uri": "https://localhost:8080/"
        },
        "id": "59yDXXo41Eys",
        "outputId": "66e4c9b3-b5b3-418f-b091-e14e080ec170"
      },
      "execution_count": null,
      "outputs": [
        {
          "output_type": "stream",
          "name": "stderr",
          "text": [
            "ERROR:root:Error: Division by zero is not allowed.\n"
          ]
        }
      ]
    },
    {
      "cell_type": "markdown",
      "source": [
        "15. Write a Python program that prints the content of a file and handles the case when the file is empty."
      ],
      "metadata": {
        "id": "3jix2h8o1FFm"
      }
    },
    {
      "cell_type": "code",
      "source": [
        "with open(\"example.txt\", \"w\") as file:\n",
        "    file.write(\"Python file handling is easy!\")\n",
        "try:\n",
        "    with open(\"example.txt\", \"r\") as file:\n",
        "        content = file.read()\n",
        "        if not content:\n",
        "            print(\"The file is empty.\")\n",
        "        else:\n",
        "            print(\"File content:\\n\", content)\n",
        "\n",
        "except FileNotFoundError:\n",
        "    print(\"Error: The file does not exist.\")\n"
      ],
      "metadata": {
        "colab": {
          "base_uri": "https://localhost:8080/"
        },
        "id": "9vTCA9Q41FVb",
        "outputId": "c765907c-f468-47c7-d13c-c66e0faea06a"
      },
      "execution_count": null,
      "outputs": [
        {
          "output_type": "stream",
          "name": "stdout",
          "text": [
            "File content:\n",
            " Python file handling is easy!\n"
          ]
        }
      ]
    },
    {
      "cell_type": "markdown",
      "source": [
        "16. Demonstrate how to use memory profiling to check the memory usage of a small program."
      ],
      "metadata": {
        "id": "xIkcpua919K_"
      }
    },
    {
      "cell_type": "code",
      "source": [
        "!pip install memory-profiler psutil\n"
      ],
      "metadata": {
        "colab": {
          "base_uri": "https://localhost:8080/"
        },
        "id": "BRJ6d4x9192I",
        "outputId": "fb7d1209-2553-439c-997b-26749e21a8fe"
      },
      "execution_count": null,
      "outputs": [
        {
          "output_type": "stream",
          "name": "stdout",
          "text": [
            "Requirement already satisfied: memory-profiler in /usr/local/lib/python3.12/dist-packages (0.61.0)\n",
            "Requirement already satisfied: psutil in /usr/local/lib/python3.12/dist-packages (5.9.5)\n"
          ]
        }
      ]
    },
    {
      "cell_type": "code",
      "source": [
        "%load_ext memory_profiler\n"
      ],
      "metadata": {
        "id": "L-UageGiC0yv"
      },
      "execution_count": null,
      "outputs": []
    },
    {
      "cell_type": "code",
      "source": [
        "%%memit\n",
        "numbers = [i for i in range(10000)]   # only 10,000 numbers\n",
        "print(\"Sum:\", sum(numbers))\n"
      ],
      "metadata": {
        "colab": {
          "base_uri": "https://localhost:8080/"
        },
        "id": "5ndDAuBVC6PO",
        "outputId": "6cac87ee-55b2-4197-a117-7158f21aa79e"
      },
      "execution_count": null,
      "outputs": [
        {
          "output_type": "stream",
          "name": "stdout",
          "text": [
            "Sum: 49995000\n",
            "peak memory: 153.59 MiB, increment: 0.02 MiB\n"
          ]
        }
      ]
    },
    {
      "cell_type": "markdown",
      "source": [
        "17. Write a Python program to create and write a list of numbers to a file, one number per line."
      ],
      "metadata": {
        "id": "dWBxi7MmDDri"
      }
    },
    {
      "cell_type": "code",
      "source": [
        "\n",
        "numbers = [10, 20, 30, 40, 50]\n",
        "\n",
        "with open(\"numbers.txt\", \"w\") as file:\n",
        "    for num in numbers:\n",
        "        file.write(str(num) + \"\\n\")\n",
        "\n",
        "print(\"✅ Numbers have been written to numbers.txt successfully!\\n\")\n",
        "\n",
        "print(\"📄 Contents of numbers.txt:\")\n",
        "with open(\"numbers.txt\", \"r\") as file:\n",
        "    content = file.read()\n",
        "    print(content)\n"
      ],
      "metadata": {
        "colab": {
          "base_uri": "https://localhost:8080/"
        },
        "id": "iwwf5XdKDPAO",
        "outputId": "3a822d79-264a-46fb-ad1c-19321e277c01"
      },
      "execution_count": null,
      "outputs": [
        {
          "output_type": "stream",
          "name": "stdout",
          "text": [
            "✅ Numbers have been written to numbers.txt successfully!\n",
            "\n",
            "📄 Contents of numbers.txt:\n",
            "10\n",
            "20\n",
            "30\n",
            "40\n",
            "50\n",
            "\n"
          ]
        }
      ]
    },
    {
      "cell_type": "markdown",
      "source": [
        "18. How would you implement a basic logging setup that logs to a file with rotation after 1MB?"
      ],
      "metadata": {
        "id": "y5fyM-0hDrP2"
      }
    },
    {
      "cell_type": "code",
      "source": [
        "import logging\n",
        "from logging.handlers import RotatingFileHandler\n",
        "\n",
        "logger = logging.getLogger(\"MyLogger\")\n",
        "logger.setLevel(logging.INFO)\n",
        "\n",
        "handler = RotatingFileHandler(\n",
        "    \"app.log\",       # Log file name\n",
        "    maxBytes=1_000_000,  # Rotate after 1MB (1,000,000 bytes)\n",
        "    backupCount=3        # Keep 3 backup log files\n",
        ")\n",
        "\n",
        "formatter = logging.Formatter('%(asctime)s - %(levelname)s - %(message)s')\n",
        "handler.setFormatter(formatter)\n",
        "\n",
        "logger.addHandler(handler)\n",
        "\n",
        "for i in range(100):\n",
        "    logger.info(f\"Logging message number: {i}\")\n",
        "\n",
        "print(\"✅ Logging complete. Log file will rotate automatically after 1MB.\")\n"
      ],
      "metadata": {
        "id": "Z1gikdSgDrlQ",
        "colab": {
          "base_uri": "https://localhost:8080/"
        },
        "outputId": "b48d1f55-bd6f-4489-b698-e4cee311411f"
      },
      "execution_count": 1,
      "outputs": [
        {
          "output_type": "stream",
          "name": "stderr",
          "text": [
            "INFO:MyLogger:Logging message number: 0\n",
            "INFO:MyLogger:Logging message number: 1\n",
            "INFO:MyLogger:Logging message number: 2\n",
            "INFO:MyLogger:Logging message number: 3\n",
            "INFO:MyLogger:Logging message number: 4\n",
            "INFO:MyLogger:Logging message number: 5\n",
            "INFO:MyLogger:Logging message number: 6\n",
            "INFO:MyLogger:Logging message number: 7\n",
            "INFO:MyLogger:Logging message number: 8\n",
            "INFO:MyLogger:Logging message number: 9\n",
            "INFO:MyLogger:Logging message number: 10\n",
            "INFO:MyLogger:Logging message number: 11\n",
            "INFO:MyLogger:Logging message number: 12\n",
            "INFO:MyLogger:Logging message number: 13\n",
            "INFO:MyLogger:Logging message number: 14\n",
            "INFO:MyLogger:Logging message number: 15\n",
            "INFO:MyLogger:Logging message number: 16\n",
            "INFO:MyLogger:Logging message number: 17\n",
            "INFO:MyLogger:Logging message number: 18\n",
            "INFO:MyLogger:Logging message number: 19\n",
            "INFO:MyLogger:Logging message number: 20\n",
            "INFO:MyLogger:Logging message number: 21\n",
            "INFO:MyLogger:Logging message number: 22\n",
            "INFO:MyLogger:Logging message number: 23\n",
            "INFO:MyLogger:Logging message number: 24\n",
            "INFO:MyLogger:Logging message number: 25\n",
            "INFO:MyLogger:Logging message number: 26\n",
            "INFO:MyLogger:Logging message number: 27\n",
            "INFO:MyLogger:Logging message number: 28\n",
            "INFO:MyLogger:Logging message number: 29\n",
            "INFO:MyLogger:Logging message number: 30\n",
            "INFO:MyLogger:Logging message number: 31\n",
            "INFO:MyLogger:Logging message number: 32\n",
            "INFO:MyLogger:Logging message number: 33\n",
            "INFO:MyLogger:Logging message number: 34\n",
            "INFO:MyLogger:Logging message number: 35\n",
            "INFO:MyLogger:Logging message number: 36\n",
            "INFO:MyLogger:Logging message number: 37\n",
            "INFO:MyLogger:Logging message number: 38\n",
            "INFO:MyLogger:Logging message number: 39\n",
            "INFO:MyLogger:Logging message number: 40\n",
            "INFO:MyLogger:Logging message number: 41\n",
            "INFO:MyLogger:Logging message number: 42\n",
            "INFO:MyLogger:Logging message number: 43\n",
            "INFO:MyLogger:Logging message number: 44\n",
            "INFO:MyLogger:Logging message number: 45\n",
            "INFO:MyLogger:Logging message number: 46\n",
            "INFO:MyLogger:Logging message number: 47\n",
            "INFO:MyLogger:Logging message number: 48\n",
            "INFO:MyLogger:Logging message number: 49\n",
            "INFO:MyLogger:Logging message number: 50\n",
            "INFO:MyLogger:Logging message number: 51\n",
            "INFO:MyLogger:Logging message number: 52\n",
            "INFO:MyLogger:Logging message number: 53\n",
            "INFO:MyLogger:Logging message number: 54\n",
            "INFO:MyLogger:Logging message number: 55\n",
            "INFO:MyLogger:Logging message number: 56\n",
            "INFO:MyLogger:Logging message number: 57\n",
            "INFO:MyLogger:Logging message number: 58\n",
            "INFO:MyLogger:Logging message number: 59\n",
            "INFO:MyLogger:Logging message number: 60\n",
            "INFO:MyLogger:Logging message number: 61\n",
            "INFO:MyLogger:Logging message number: 62\n",
            "INFO:MyLogger:Logging message number: 63\n",
            "INFO:MyLogger:Logging message number: 64\n",
            "INFO:MyLogger:Logging message number: 65\n",
            "INFO:MyLogger:Logging message number: 66\n",
            "INFO:MyLogger:Logging message number: 67\n",
            "INFO:MyLogger:Logging message number: 68\n",
            "INFO:MyLogger:Logging message number: 69\n",
            "INFO:MyLogger:Logging message number: 70\n",
            "INFO:MyLogger:Logging message number: 71\n",
            "INFO:MyLogger:Logging message number: 72\n",
            "INFO:MyLogger:Logging message number: 73\n",
            "INFO:MyLogger:Logging message number: 74\n",
            "INFO:MyLogger:Logging message number: 75\n",
            "INFO:MyLogger:Logging message number: 76\n",
            "INFO:MyLogger:Logging message number: 77\n",
            "INFO:MyLogger:Logging message number: 78\n",
            "INFO:MyLogger:Logging message number: 79\n",
            "INFO:MyLogger:Logging message number: 80\n",
            "INFO:MyLogger:Logging message number: 81\n",
            "INFO:MyLogger:Logging message number: 82\n",
            "INFO:MyLogger:Logging message number: 83\n",
            "INFO:MyLogger:Logging message number: 84\n",
            "INFO:MyLogger:Logging message number: 85\n",
            "INFO:MyLogger:Logging message number: 86\n",
            "INFO:MyLogger:Logging message number: 87\n",
            "INFO:MyLogger:Logging message number: 88\n",
            "INFO:MyLogger:Logging message number: 89\n",
            "INFO:MyLogger:Logging message number: 90\n",
            "INFO:MyLogger:Logging message number: 91\n",
            "INFO:MyLogger:Logging message number: 92\n",
            "INFO:MyLogger:Logging message number: 93\n",
            "INFO:MyLogger:Logging message number: 94\n",
            "INFO:MyLogger:Logging message number: 95\n",
            "INFO:MyLogger:Logging message number: 96\n",
            "INFO:MyLogger:Logging message number: 97\n",
            "INFO:MyLogger:Logging message number: 98\n",
            "INFO:MyLogger:Logging message number: 99\n"
          ]
        },
        {
          "output_type": "stream",
          "name": "stdout",
          "text": [
            "✅ Logging complete. Log file will rotate automatically after 1MB.\n"
          ]
        }
      ]
    },
    {
      "cell_type": "markdown",
      "source": [
        "19. Write a program that handles both IndexError and KeyError using a try-except block."
      ],
      "metadata": {
        "id": "ToVRkLhZEZwO"
      }
    },
    {
      "cell_type": "code",
      "source": [
        "\n",
        "numbers = [10, 20, 30]\n",
        "student = {\"name\": \"Anjel\", \"age\": 21}\n",
        "\n",
        "try:\n",
        "    print(\"Accessing list element:\", numbers[5])\n",
        "\n",
        "    print(\"Student grade:\", student[\"grade\"])\n",
        "\n",
        "except IndexError:\n",
        "    print(\" IndexError: Tried to access an index that doesn’t exist in the list.\")\n",
        "\n",
        "except KeyError:\n",
        "    print(\" KeyError: Tried to access a key that doesn’t exist in the dictionary.\")\n",
        "\n",
        "print(\" Program continues normally after handling exceptions.\")\n"
      ],
      "metadata": {
        "colab": {
          "base_uri": "https://localhost:8080/"
        },
        "id": "-SyH2GTeEfVk",
        "outputId": "5a8930b0-3e05-4a76-df94-815ba51315cb"
      },
      "execution_count": 9,
      "outputs": [
        {
          "output_type": "stream",
          "name": "stdout",
          "text": [
            " IndexError: Tried to access an index that doesn’t exist in the list.\n",
            " Program continues normally after handling exceptions.\n"
          ]
        }
      ]
    },
    {
      "cell_type": "markdown",
      "source": [
        "20. How would you open a file and read its contents using a context manager in Python?"
      ],
      "metadata": {
        "id": "GFvhLfBQEtSU"
      }
    },
    {
      "cell_type": "code",
      "source": [
        "with open(\"example.txt\", \"r\") as file:\n",
        "    content = file.read()\n",
        "    print(\"File content:\\n\")\n",
        "print(content)\n"
      ],
      "metadata": {
        "colab": {
          "base_uri": "https://localhost:8080/"
        },
        "id": "IyQWuFm8Et0p",
        "outputId": "d0aaffeb-bf19-4ffc-ccda-903f15e5d9c0"
      },
      "execution_count": 5,
      "outputs": [
        {
          "output_type": "stream",
          "name": "stdout",
          "text": [
            "File content:\n",
            "\n",
            "Python file handling is easy!\n"
          ]
        }
      ]
    },
    {
      "cell_type": "markdown",
      "source": [
        "21. Write a Python program that reads a file and prints the number of occurrences of a specific word."
      ],
      "metadata": {
        "id": "bMFSXNHNFYXy"
      }
    },
    {
      "cell_type": "code",
      "source": [
        "word_to_search = input(\"Enter the word you want to count: \").lower()\n",
        "\n",
        "with open(\"example.txt\", \"r\") as file:\n",
        "    content = file.read().lower()\n",
        "count = content.count(word_to_search)\n",
        "\n",
        "print(f\"The word '{word_to_search}' appears {count} times in the file.\")\n"
      ],
      "metadata": {
        "colab": {
          "base_uri": "https://localhost:8080/"
        },
        "id": "U3zYjHBoFZDP",
        "outputId": "dc54809c-4d56-4145-83f9-731b12fb53d4"
      },
      "execution_count": 7,
      "outputs": [
        {
          "output_type": "stream",
          "name": "stdout",
          "text": [
            "Enter the word you want to count: python\n",
            "The word 'python' appears 1 times in the file.\n"
          ]
        }
      ]
    },
    {
      "cell_type": "markdown",
      "source": [
        "22. How can you check if a file is empty before attempting to read its contents?"
      ],
      "metadata": {
        "id": "TRgIULvMFrPB"
      }
    },
    {
      "cell_type": "code",
      "source": [
        "import os\n",
        "file_name = \"example.txt\"\n",
        "\n",
        "if os.path.exists(file_name):\n",
        "    if os.path.getsize(file_name) == 0:\n",
        "        print(\" The file is empty!\")\n",
        "    else:\n",
        "        with open(file_name, \"r\") as file:\n",
        "            content = file.read()\n",
        "            print(\" File Contents:\")\n",
        "            print(content)\n",
        "else:\n",
        "    print(\" The file does not exist.\")\n"
      ],
      "metadata": {
        "colab": {
          "base_uri": "https://localhost:8080/"
        },
        "id": "JYK8Ae6eFqOw",
        "outputId": "3db97a3e-12d8-4a34-f630-09f571cc4a3d"
      },
      "execution_count": 8,
      "outputs": [
        {
          "output_type": "stream",
          "name": "stdout",
          "text": [
            " File Contents:\n",
            "Python file handling is easy!\n"
          ]
        }
      ]
    },
    {
      "cell_type": "markdown",
      "source": [
        "23. Write a Python program that writes to a log file when an error occurs during file handling."
      ],
      "metadata": {
        "id": "5KuwPimjGRYU"
      }
    },
    {
      "cell_type": "code",
      "source": [
        "import logging\n",
        "\n",
        "logging.basicConfig(\n",
        "    filename=\"file_error.log\",        # Log file name\n",
        "    level=logging.ERROR,              # Log only errors and above\n",
        "    format=\"%(asctime)s - %(levelname)s - %(message)s\"  # Log format\n",
        ")\n",
        "\n",
        "try:\n",
        "    with open(\"non_existing_file.txt\", \"r\") as file:\n",
        "        content = file.read()\n",
        "        print(content)\n",
        "\n",
        "except FileNotFoundError as e:\n",
        "    print(\" Error: File not found!\")\n",
        "    logging.error(f\"FileNotFoundError: {e}\")\n",
        "\n",
        "except Exception as e:\n",
        "    print(\" An unexpected error occurred!\")\n",
        "    logging.error(f\"Unexpected error: {e}\")\n",
        "\n",
        "print(\" Program completed. Check 'file_error.log' for details.\")\n"
      ],
      "metadata": {
        "colab": {
          "base_uri": "https://localhost:8080/"
        },
        "id": "vZSTFNbsGSo5",
        "outputId": "b0de6013-48d4-45e6-c6ed-7dd38bcb9e03"
      },
      "execution_count": 12,
      "outputs": [
        {
          "output_type": "stream",
          "name": "stderr",
          "text": [
            "ERROR:root:FileNotFoundError: [Errno 2] No such file or directory: 'non_existing_file.txt'\n"
          ]
        },
        {
          "output_type": "stream",
          "name": "stdout",
          "text": [
            " Error: File not found!\n",
            " Program completed. Check 'file_error.log' for details.\n"
          ]
        }
      ]
    }
  ]
}